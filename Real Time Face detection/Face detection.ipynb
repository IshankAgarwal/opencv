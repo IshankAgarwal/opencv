{
 "cells": [
  {
   "cell_type": "code",
   "execution_count": 1,
   "metadata": {},
   "outputs": [],
   "source": [
    "# Face  detection \n",
    "import cv2\n",
    "cap=cv2.VideoCapture(0) # start Webcamera\n",
    "# using a face classifier -haarcascade\n",
    "face_classifier = cv2.CascadeClassifier('haarcascade_frontalface_default.xml')\n",
    "\n",
    "# while loop for video(by capturing and showing images continuously)\n",
    "while True:\n",
    "    status,photo=cap.read()              # read webcamera  \n",
    "    \n",
    "    gray_img = cv2.cvtColor(photo, cv2.COLOR_RGB2GRAY)          # converting to gray image \n",
    "    faces = face_classifier.detectMultiScale(gray_img, 1.3, 5)\n",
    "    # apply face classifier on gray image\n",
    "    for (x,y,w,h) in faces:                                     # get rectangle points and length \n",
    "        cv2.rectangle(photo,(x,y),(x+w,y+h),(0,255,255),2)      # draw rectangle on original image with those points and length\n",
    "   \n",
    "    cv2.imshow('myimage',photo)    # finally show image \n",
    "    if cv2.waitKey(1)==27:       # ESC key to stop recording \n",
    "        break\n",
    "        \n",
    "cv2.destroyAllWindows()         # close recording window\n",
    "cap.release()                 # close camera "
   ]
  },
  {
   "cell_type": "code",
   "execution_count": null,
   "metadata": {},
   "outputs": [],
   "source": []
  }
 ],
 "metadata": {
  "kernelspec": {
   "display_name": "Python 3",
   "language": "python",
   "name": "python3"
  },
  "language_info": {
   "codemirror_mode": {
    "name": "ipython",
    "version": 3
   },
   "file_extension": ".py",
   "mimetype": "text/x-python",
   "name": "python",
   "nbconvert_exporter": "python",
   "pygments_lexer": "ipython3",
   "version": "3.6.4"
  }
 },
 "nbformat": 4,
 "nbformat_minor": 2
}
