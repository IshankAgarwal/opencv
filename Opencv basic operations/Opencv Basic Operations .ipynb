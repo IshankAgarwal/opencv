{
 "cells": [
  {
   "cell_type": "markdown",
   "metadata": {},
   "source": [
    "### Read image"
   ]
  },
  {
   "cell_type": "code",
   "execution_count": 1,
   "metadata": {},
   "outputs": [],
   "source": [
    "import cv2\n",
    "import numpy as np"
   ]
  },
  {
   "cell_type": "code",
   "execution_count": null,
   "metadata": {},
   "outputs": [],
   "source": [
    "#0, 1 ,-1 flags\n",
    "#0=grayscale\n",
    "#1=Coloured\n",
    "#-1=transparent\n",
    "img=cv2.imread('randomimage.png',0)"
   ]
  },
  {
   "cell_type": "code",
   "execution_count": null,
   "metadata": {},
   "outputs": [],
   "source": [
    "print (img)\n",
    "print(img.shape)"
   ]
  },
  {
   "cell_type": "markdown",
   "metadata": {},
   "source": [
    "### Show image"
   ]
  },
  {
   "cell_type": "code",
   "execution_count": null,
   "metadata": {},
   "outputs": [],
   "source": [
    "#27 for ESC key \n",
    "cv2.imshow(\"windowname\",img)\n",
    "cv2.waitKey(0)    # argument is time in ..ms.....0 means infinite time(wait for keystroke)\n",
    "cv2.destroyAllWindows()  "
   ]
  },
  {
   "cell_type": "markdown",
   "metadata": {},
   "source": [
    "### Resize img"
   ]
  },
  {
   "cell_type": "code",
   "execution_count": null,
   "metadata": {},
   "outputs": [],
   "source": [
    "# parameter is size of image \n",
    "resizeimg=cv2.resize(img,(680,420))\n",
    "cv2.imshow(\"windowname\",resizeimg)\n",
    "cv2.waitKey(0)    \n",
    "cv2.destroyAllWindows()"
   ]
  },
  {
   "cell_type": "code",
   "execution_count": null,
   "metadata": {},
   "outputs": [],
   "source": [
    "img=cv2.imread('randomimage.png',1)\n",
    "print(\"data type of image ::  {}\".format(img.dtype))\n",
    "print(\"dimensions of image ::  {}\".format(img.ndim))"
   ]
  },
  {
   "cell_type": "code",
   "execution_count": null,
   "metadata": {},
   "outputs": [],
   "source": [
    "img[0,1]"
   ]
  },
  {
   "cell_type": "code",
   "execution_count": null,
   "metadata": {},
   "outputs": [],
   "source": [
    "# modifying image pixels or region \n",
    "img_copy=img.copy()\n",
    "\n",
    "# making a portion white \n",
    "\n",
    "img_copy[100:400,50:250]=255\n",
    "\n",
    "cv2.imshow(\"windowname\",img_copy)\n",
    "cv2.waitKey(0)    \n",
    "cv2.destroyAllWindows()"
   ]
  },
  {
   "cell_type": "markdown",
   "metadata": {},
   "source": [
    "### Resizing with Aspect ratio constant "
   ]
  },
  {
   "cell_type": "code",
   "execution_count": null,
   "metadata": {},
   "outputs": [],
   "source": [
    "img=cv2.imread('randomimage.png',1)\n",
    "\n",
    "height,width=img.shape[:-1]\n",
    "#let 400 px be width of image\n",
    "\n",
    "z=400.0/width\n",
    "\n",
    "new_h=int(height*z)\n",
    "\n",
    "resized=cv2.resize(img,(400,new_h))\n",
    "\n",
    "cv2.imshow(\"windowname\",resized)\n",
    "cv2.waitKey(0)    \n",
    "cv2.destroyAllWindows()\n",
    "print(img.shape)\n",
    "print(resized.shape)"
   ]
  },
  {
   "cell_type": "markdown",
   "metadata": {},
   "source": [
    "### Geometric transformations "
   ]
  },
  {
   "cell_type": "code",
   "execution_count": null,
   "metadata": {},
   "outputs": [],
   "source": [
    "#src:imput img\n",
    "#M: 2*3 transformation matrix\n",
    "#dsize: size of output image \n",
    "#flags : combination of interpolation methods \n",
    "#border mode \n",
    "#border value\n",
    "#transformed=cv2.wrapAffine(src,M,dsize...)\n",
    "\n",
    "# translation /shifting \n",
    "\n",
    "img=cv2.imread('randomimage.png',1)\n",
    "rows,cols,channel=img.shape\n",
    "M=np.float32([[1,0,100],[0,1,-50]])\n",
    "\n",
    "translated =cv2.warpAffine(img,M,(cols,rows))\n",
    "\n",
    "cv2.imshow(\"windowname\",translated)\n",
    "cv2.waitKey(0)    \n",
    "cv2.destroyAllWindows()\n"
   ]
  },
  {
   "cell_type": "code",
   "execution_count": null,
   "metadata": {},
   "outputs": [],
   "source": [
    "# Rotation\n",
    "\n",
    "angle=30\n",
    "#(center ,angle,scale)\n",
    "rotation_mat=cv2.getRotationMatrix2D((cols/2,rows/2),angle,1)\n",
    "\n",
    "rotated=cv2.warpAffine(img,rotation_mat,(cols,rows))\n",
    "\n",
    "cv2.imshow(\"windowname\",rotated)\n",
    "cv2.waitKey(0)    \n",
    "cv2.destroyAllWindows()\n",
    "# to remove black pixels -use border filling method\n"
   ]
  },
  {
   "cell_type": "markdown",
   "metadata": {},
   "source": [
    "### Drawing on image"
   ]
  },
  {
   "cell_type": "code",
   "execution_count": null,
   "metadata": {},
   "outputs": [],
   "source": [
    "copyimg=img.copy()\n",
    "#draw line \n",
    "cv2.line(copyimg,(400,100),(100,355),(255,250,255),5)\n",
    "# draw circle\n",
    "cv2.circle(copyimg,(350,200),150,(255,0,0),5)\n",
    "#draw rectangle\n",
    "cv2.rectangle(copyimg,(10,25),(100,125),(0,255,0),3)\n",
    "# Put text\n",
    "cv2.putText(copyimg,'here is text',(40,60),cv2.FONT_HERSHEY_SIMPLEX,1.7,(255,255,0),4)\n",
    "\n",
    "cv2.imshow(\"windowname\",copyimg)\n",
    "cv2.waitKey(0)    \n",
    "cv2.destroyAllWindows()\n"
   ]
  },
  {
   "cell_type": "markdown",
   "metadata": {},
   "source": [
    "### Image Smoothing/Blurring"
   ]
  },
  {
   "cell_type": "code",
   "execution_count": null,
   "metadata": {},
   "outputs": [],
   "source": [
    "# to crop and copy\n",
    "#face_roi  = img[100:270,300:450].copy()\n",
    "\n",
    "# img,ksize,sigmaX\n",
    "blurr=cv2.GaussianBlur(img,(9,9),50)\n",
    "\n",
    "cv2.imshow(\"windowname\",blurr)\n",
    "cv2.waitKey(0)    \n",
    "cv2.destroyAllWindows()"
   ]
  },
  {
   "cell_type": "code",
   "execution_count": 25,
   "metadata": {},
   "outputs": [],
   "source": [
    "# color to grayscale\n",
    "img=cv2.imread('randomimg3.jpg',1)\n",
    "gray=cv2.cvtColor(img,cv2.COLOR_BGR2GRAY)\n",
    "#apply threshold means== above 220-->=255 and below 220--->=0\n",
    "# also --> THRESH_BINARY_INV =  inverse\n",
    "x,threshimg = cv2.threshold(gray,100,255,cv2.THRESH_BINARY)\n",
    "cv2.imshow(\"windowname\",threshimg)\n",
    "cv2.waitKey(0)    \n",
    "cv2.destroyAllWindows()"
   ]
  },
  {
   "cell_type": "markdown",
   "metadata": {},
   "source": [
    "### Edge Detection"
   ]
  },
  {
   "cell_type": "code",
   "execution_count": 19,
   "metadata": {},
   "outputs": [],
   "source": [
    "#threshold values for hysteresis procedure\n",
    "edges = cv2.Canny(img, 40, 500)\n",
    " \n",
    "cv2.imshow(\"windowname\",edges)\n",
    "cv2.waitKey(0)    \n",
    "cv2.destroyAllWindows()"
   ]
  },
  {
   "cell_type": "markdown",
   "metadata": {},
   "source": [
    "### Contour detection "
   ]
  },
  {
   "cell_type": "code",
   "execution_count": 45,
   "metadata": {},
   "outputs": [
    {
     "name": "stdout",
     "output_type": "stream",
     "text": [
      "total no. of contours =  7\n"
     ]
    }
   ],
   "source": [
    "#Finding shapes or patterns on basis of color \n",
    "\n",
    "img=cv2.imread(\"randomimg3.jpg\",1)\n",
    "img=cv2.resize(img,(680,420))\n",
    "imgcopy=img.copy()\n",
    "gray_image = cv2.cvtColor(imgcopy, cv2.COLOR_BGR2GRAY) \n",
    "# threshold needs calibration for better result\n",
    "x, thresholded_image = cv2.threshold(gray_image, 50, 255, cv2.THRESH_BINARY)\n",
    "\n",
    "\n",
    "# image=black n white after thresholding or canny edge detector\n",
    "# mode =neglecting internal contours\n",
    "# method =chain_approx_none\n",
    "contours,z=cv2.findContours(thresholded_image,cv2.RETR_EXTERNAL,cv2.CHAIN_APPROX_NONE)\n",
    "\n",
    "#original image\n",
    "#contours\n",
    "#contour id= -1 for all contours \n",
    "#color of contour outline\n",
    "cv2.drawContours(imgcopy,contours,-1,(0,255,0),3)\n",
    "\n",
    "cv2.imshow(\"windowname\",imgcopy)\n",
    "cv2.waitKey(0)    \n",
    "cv2.destroyAllWindows()\n",
    "\n",
    "print(\"total no. of contours = \", len(contours))"
   ]
  },
  {
   "cell_type": "markdown",
   "metadata": {},
   "source": [
    "### Morphological Operations : Erosion ,Dilation"
   ]
  },
  {
   "cell_type": "code",
   "execution_count": 55,
   "metadata": {},
   "outputs": [],
   "source": [
    "#Morphological operations : Used to filter/ for preprocessing of images \n",
    "#Erosion :we can say it  removes white spots\n",
    "\n",
    "img=cv2.imread(\"randomimg3.jpg\",0)\n",
    "img=cv2.resize(img,(680,420))\n",
    "\n",
    "#greater the size of kernel -greater its effect\n",
    "kernel=np.ones((7,7),np.uint8)\n",
    "\n",
    "\n",
    "eroded=cv2.erode(img,kernel,iterations=2)\n",
    "\n",
    "cv2.imshow(\"windowname\",eroded)\n",
    "#cv2.imshow(\"windowname\",img)\n",
    "\n",
    "cv2.waitKey(0)    \n",
    "cv2.destroyAllWindows()"
   ]
  },
  {
   "cell_type": "code",
   "execution_count": 57,
   "metadata": {},
   "outputs": [],
   "source": [
    "# Dilation : Opposite of erosion \n",
    "\n",
    "img=cv2.imread(\"randomimg3.jpg\",0)\n",
    "img=cv2.resize(img,(680,420))\n",
    "\n",
    "#greater the size of kernel -greater its effect\n",
    "kernel=np.ones((7,7),np.uint8)\n",
    "\n",
    "\n",
    "dilated=cv2.dilate(img,kernel,iterations=2)\n",
    "\n",
    "cv2.imshow(\"windowname\",dilated)\n",
    "#cv2.imshow(\"windowname\",img)\n",
    "\n",
    "cv2.waitKey(0)    \n",
    "cv2.destroyAllWindows()\n"
   ]
  },
  {
   "cell_type": "markdown",
   "metadata": {},
   "source": [
    "### Video Capturing "
   ]
  },
  {
   "cell_type": "code",
   "execution_count": 58,
   "metadata": {},
   "outputs": [],
   "source": [
    "# 0 for webcam \n",
    "cap = cv2.VideoCapture(0)\n",
    "# loop to repeatedly/continuously reading frames    \n",
    "while(True):\n",
    "    # read frame\n",
    "    ret, frame = cap.read() \n",
    " \n",
    "    #if frame is not read correctly\n",
    "    if not ret:\n",
    "        break\n",
    "    #perform any operation     \n",
    "    gray = cv2.cvtColor(frame, cv2.COLOR_BGR2GRAY)\n",
    " \n",
    "    # Show the frame we read\n",
    "    cv2.imshow('frame',gray)\n",
    "        \n",
    "    # Wait for the 1 millisecond, before showing the next frame.\n",
    "    #  If the user presses the `q` key then exit the loop.\n",
    "    if cv2.waitKey(1)  ==  ord('q'):\n",
    "        break\n",
    "# Release camera\n",
    "cap.release()\n",
    "# Destroy all windows \n",
    "cv2.destroyAllWindows()"
   ]
  },
  {
   "cell_type": "markdown",
   "metadata": {},
   "source": [
    "### Face detection "
   ]
  },
  {
   "cell_type": "code",
   "execution_count": 112,
   "metadata": {},
   "outputs": [],
   "source": [
    "#read image\n",
    "image = cv2.imread('person_3.jpg')\n",
    "img_detect=image.copy()\n",
    "# Initialize haar classifier with the face detector model\n",
    "face_cascade = cv2.CascadeClassifier('haarcascade_frontalface_default.xml')  \n",
    "\n",
    "# Perform the detection,here  1.3 scale factor and 3 min neighbours\n",
    "faces = face_cascade.detectMultiScale(image, 1.3, 3)\n",
    "\n",
    "# go through each face and draw rectangle \n",
    "for (x,y,w,h) in faces:\n",
    "    cv2.rectangle(img_detect,(x,y),(x+w,y+h),(0,255,255),2)\n",
    "    cv2.putText(img_detect,'Face Detected',(x,y+h+20), cv2.FONT_HERSHEY_SIMPLEX, 0.5, (0,255,25), 1, cv2.LINE_AA)  \n",
    " \n",
    " #Display\n",
    "cv2.imshow(\"window\",image);\n",
    "cv2.imshow(\"Face Detected\",img_detect);\n",
    "cv2.waitKey(0)\n",
    "cv2.destroyAllWindows()\n"
   ]
  },
  {
   "cell_type": "code",
   "execution_count": null,
   "metadata": {},
   "outputs": [],
   "source": []
  },
  {
   "cell_type": "code",
   "execution_count": null,
   "metadata": {},
   "outputs": [],
   "source": []
  }
 ],
 "metadata": {
  "kernelspec": {
   "display_name": "Python 3",
   "language": "python",
   "name": "python3"
  },
  "language_info": {
   "codemirror_mode": {
    "name": "ipython",
    "version": 3
   },
   "file_extension": ".py",
   "mimetype": "text/x-python",
   "name": "python",
   "nbconvert_exporter": "python",
   "pygments_lexer": "ipython3",
   "version": "3.6.4"
  }
 },
 "nbformat": 4,
 "nbformat_minor": 2
}
